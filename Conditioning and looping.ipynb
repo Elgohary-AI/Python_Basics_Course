{
 "cells": [
  {
   "cell_type": "markdown",
   "id": "312c4632",
   "metadata": {},
   "source": [
    "# Q.1 Write a program to prompt the user for hours and rate per hour to compute gross pay."
   ]
  },
  {
   "cell_type": "code",
   "execution_count": 2,
   "id": "10729cb2",
   "metadata": {},
   "outputs": [
    {
     "name": "stdout",
     "output_type": "stream",
     "text": [
      "Enter the number of hours: 35\n",
      "Enter the rate per hour: 20\n",
      "gross pay: 700.0\n"
     ]
    }
   ],
   "source": [
    "hours = input(\"Enter the number of hours: \")\n",
    "rate = input(\"Enter the rate per hour: \")\n",
    "pay = float(hours) * float(rate)\n",
    "print(\"gross pay:\", pay)"
   ]
  },
  {
   "cell_type": "markdown",
   "id": "2713191d",
   "metadata": {},
   "source": [
    "# Q.2 Rewrite your pay computation to give the employee 1.5 times the hourly rate for hours worked above 40 hours."
   ]
  },
  {
   "cell_type": "code",
   "execution_count": 3,
   "id": "66b45971",
   "metadata": {},
   "outputs": [
    {
     "name": "stdout",
     "output_type": "stream",
     "text": [
      "Enter the number of hours: 50\n",
      "Enter the rate per hour: 20\n",
      "gross pay: 1100.0\n"
     ]
    }
   ],
   "source": [
    "hours = input(\"Enter the number of hours: \")\n",
    "rate = input(\"Enter the rate per hour: \")\n",
    "fhours = float(hours)\n",
    "frate = float(rate)\n",
    "if fhours > 40:\n",
    "    pay = (40 * frate) + ((fhours - 40) * (1.5 * frate))\n",
    "else:\n",
    "    pay = fhours * frate\n",
    "print(\"gross pay:\", pay)"
   ]
  },
  {
   "cell_type": "markdown",
   "id": "57767077",
   "metadata": {},
   "source": [
    "# Q.3 Write python program to count numbers from 5 to 1 by using while loop."
   ]
  },
  {
   "cell_type": "code",
   "execution_count": 4,
   "id": "33aefac6",
   "metadata": {},
   "outputs": [
    {
     "name": "stdout",
     "output_type": "stream",
     "text": [
      "5\n",
      "4\n",
      "3\n",
      "2\n",
      "1\n"
     ]
    }
   ],
   "source": [
    "n = 5\n",
    "while n > 1:\n",
    "    print(n)\n",
    "    n = n - 1\n",
    "print(n)"
   ]
  },
  {
   "cell_type": "markdown",
   "id": "a56b306b",
   "metadata": {},
   "source": [
    "# Q.4 Write a python program to accept any word from users repeatedly until the user enters \"done\", go out from the program."
   ]
  },
  {
   "cell_type": "code",
   "execution_count": 6,
   "id": "e4bafb9f",
   "metadata": {},
   "outputs": [
    {
     "name": "stdout",
     "output_type": "stream",
     "text": [
      "Enter any word: done\n",
      "finish\n"
     ]
    }
   ],
   "source": [
    "while True:\n",
    "    line = input(\"Enter any word: \")\n",
    "    if line == \"done\":\n",
    "        break\n",
    "    print(line)\n",
    "print(\"finish\")"
   ]
  },
  {
   "cell_type": "markdown",
   "id": "ce801b2c",
   "metadata": {},
   "source": [
    "# Q.5 Write a python program to accept any word from users repeatedly. if the user enters any word and \"#\" before it, Don't print it. if the user enters \"done\", go out from the program."
   ]
  },
  {
   "cell_type": "code",
   "execution_count": 7,
   "id": "5c7bc045",
   "metadata": {},
   "outputs": [
    {
     "name": "stdout",
     "output_type": "stream",
     "text": [
      "Enter any word: hero\n",
      "hero\n",
      "Enter any word: #hero\n",
      "Enter any word: done\n",
      "finish\n"
     ]
    }
   ],
   "source": [
    "while True:\n",
    "    line = input(\"Enter any word: \")\n",
    "    if line[0] == \"#\":\n",
    "        continue\n",
    "    elif line == \"done\":\n",
    "        break\n",
    "    print(line)\n",
    "print(\"finish\")"
   ]
  },
  {
   "cell_type": "markdown",
   "id": "e29dd7e0",
   "metadata": {},
   "source": [
    "# Q.6 Write python program to count numbers from 5 to 1 by using for loop."
   ]
  },
  {
   "cell_type": "code",
   "execution_count": 8,
   "id": "d756ca4e",
   "metadata": {},
   "outputs": [
    {
     "name": "stdout",
     "output_type": "stream",
     "text": [
      "5\n",
      "4\n",
      "3\n",
      "2\n",
      "1\n"
     ]
    }
   ],
   "source": [
    "for i in [5,4,3,2,1]:\n",
    "    print(i)"
   ]
  },
  {
   "cell_type": "markdown",
   "id": "bed8acc4",
   "metadata": {},
   "source": [
    "# Q.7 Write a python program to find the maximum number in [9,41,12,3,74,15]."
   ]
  },
  {
   "cell_type": "code",
   "execution_count": 9,
   "id": "139b87dc",
   "metadata": {},
   "outputs": [
    {
     "name": "stdout",
     "output_type": "stream",
     "text": [
      "The largest number is  74\n"
     ]
    }
   ],
   "source": [
    "large = None\n",
    "for num in [9,41,12,3,74,15]:\n",
    "    if large is None:\n",
    "        large = num\n",
    "    elif num > large:\n",
    "        large = num\n",
    "print(\"The largest number is \", large)"
   ]
  },
  {
   "cell_type": "markdown",
   "id": "5076a140",
   "metadata": {},
   "source": [
    "# Q.8 Write a python program to find the smallest number in [9,41,12,3,74,15]."
   ]
  },
  {
   "cell_type": "code",
   "execution_count": 11,
   "id": "471b4c52",
   "metadata": {},
   "outputs": [
    {
     "name": "stdout",
     "output_type": "stream",
     "text": [
      "The smallest number is  3\n"
     ]
    }
   ],
   "source": [
    "small = None\n",
    "for num in [9,41,12,3,74,15]:\n",
    "    if small is None:\n",
    "        small = num\n",
    "    elif num < small:\n",
    "        small = num\n",
    "print(\"The smallest number is \", small)"
   ]
  },
  {
   "cell_type": "markdown",
   "id": "5577e7c7",
   "metadata": {},
   "source": [
    "# Q.9 Write a python program which repeatedly accept numbers from the user until the user enters \"done\". Once the user enters \"done\" print out sum, count and the average of the entered numbers. If the user enters anything other than a number, detect his mistake by using try and except and print an error message and skip to the next number."
   ]
  },
  {
   "cell_type": "code",
   "execution_count": 13,
   "id": "8816b75b",
   "metadata": {},
   "outputs": [
    {
     "name": "stdout",
     "output_type": "stream",
     "text": [
      "Enter any number: 5\n",
      "Enter any number: 4\n",
      "Enter any number: 6\n",
      "Enter any number: l\n",
      "Enter a valid number\n",
      "Enter any number: done\n",
      "15.0 3 5.0\n"
     ]
    }
   ],
   "source": [
    "count = 0\n",
    "sum = 0\n",
    "while True:\n",
    "    num = input(\"Enter any number: \")\n",
    "    if num == \"done\":\n",
    "        break\n",
    "    try:\n",
    "        fnum = float(num)\n",
    "    except:\n",
    "        print(\"Enter a valid number\")\n",
    "        continue\n",
    "    count += 1\n",
    "    sum += fnum\n",
    "print(sum, count, sum/count)"
   ]
  },
  {
   "cell_type": "code",
   "execution_count": null,
   "id": "ca7af581",
   "metadata": {},
   "outputs": [],
   "source": []
  }
 ],
 "metadata": {
  "kernelspec": {
   "display_name": "Python 3 (ipykernel)",
   "language": "python",
   "name": "python3"
  },
  "language_info": {
   "codemirror_mode": {
    "name": "ipython",
    "version": 3
   },
   "file_extension": ".py",
   "mimetype": "text/x-python",
   "name": "python",
   "nbconvert_exporter": "python",
   "pygments_lexer": "ipython3",
   "version": "3.9.7"
  }
 },
 "nbformat": 4,
 "nbformat_minor": 5
}
